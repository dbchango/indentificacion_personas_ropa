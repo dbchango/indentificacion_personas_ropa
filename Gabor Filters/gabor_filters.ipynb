{
 "cells": [
  {
   "cell_type": "code",
   "execution_count": 9,
   "metadata": {},
   "outputs": [],
   "source": [
    "import numpy as np\n",
    "import cv2\n",
    "import matplotlib.pyplot as plt\n"
   ]
  },
  {
   "cell_type": "code",
   "execution_count": 90,
   "metadata": {},
   "outputs": [
    {
     "data": {
      "text/plain": [
       "<matplotlib.image.AxesImage at 0x2290765e940>"
      ]
     },
     "execution_count": 90,
     "metadata": {},
     "output_type": "execute_result"
    },
    {
     "data": {
      "image/png": "[encoded data removed]",
      "text/plain": [
       "<Figure size 432x288 with 1 Axes>"
      ]
     },
     "metadata": {
      "needs_background": "light"
     },
     "output_type": "display_data"
    }
   ],
   "source": [
    "# Filter bank creation\n",
    "ksize  = 5\n",
    "sigma = 3\n",
    "theta = 2*np.pi/3\n",
    "lamda = 1*np.pi/4\n",
    "# aspect ratio\n",
    "gamma = 0.5\n",
    "phi = 0\n",
    "\n",
    "kernel = cv2.getGaborKernel((ksize, ksize), sigma, theta, lamda, gamma, phi, ktype=cv2.CV_32F)\n",
    "\n",
    "plt.imshow(kernel)"
   ]
  },
  {
   "cell_type": "code",
   "execution_count": 92,
   "metadata": {},
   "outputs": [],
   "source": [
    "img = cv2.imread('BSE_Image.jpg')\n",
    "\n",
    "img = cv2.cvtColor(img, cv2.COLOR_BGR2GRAY)\n",
    "fimg = cv2.filter2D(img, cv2.CV_8UC3, kernel)\n",
    "kernel_resized = cv2.resize(kernel, (400, 400))\n",
    "cv2.imshow('Original image', img)\n",
    "cv2.imshow('Filtered image', fimg)\n",
    "cv2.imshow('Kernel', kernel_resized)\n",
    "cv2.waitKey()\n",
    "cv2.destroyAllWindows()"
   ]
  },
  {
   "cell_type": "code",
   "execution_count": 91,
   "metadata": {},
   "outputs": [],
   "source": [
    "img = cv2.imread('synthetic.jpg')\n",
    "\n",
    "img = cv2.cvtColor(img, cv2.COLOR_BGR2GRAY)\n",
    "fimg = cv2.filter2D(img, cv2.CV_8UC3, kernel)\n",
    "kernel_resized = cv2.resize(kernel, (400, 400))\n",
    "cv2.imshow('Original image', img)\n",
    "cv2.imshow('Filtered image', fimg)\n",
    "cv2.imshow('Kernel', kernel_resized)\n",
    "cv2.waitKey()\n",
    "cv2.destroyAllWindows()"
   ]
  }
 ],
 "metadata": {
  "kernelspec": {
   "display_name": "Python 3",
   "language": "python",
   "name": "python3"
  },
  "language_info": {
   "codemirror_mode": {
    "name": "ipython",
    "version": 3
   },
   "file_extension": ".py",
   "mimetype": "text/x-python",
   "name": "python",
   "nbconvert_exporter": "python",
   "pygments_lexer": "ipython3",
   "version": "3.8.5"
  }
 },
 "nbformat": 4,
 "nbformat_minor": 4
}
