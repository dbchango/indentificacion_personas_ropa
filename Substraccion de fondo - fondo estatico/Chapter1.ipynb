{
 "cells": [
  {
   "cell_type": "code",
   "execution_count": 33,
   "metadata": {},
   "outputs": [],
   "source": [
    "import numpy as np\n",
    "import cv2\n",
    "import time\n",
    "import matplotlib.pyplot as plt"
   ]
  },
  {
   "cell_type": "code",
   "execution_count": 34,
   "metadata": {},
   "outputs": [],
   "source": [
    "\n",
    "# cargamos el video\n",
    "camara = cv2.VideoCapture(\"vga.mpg\")"
   ]
  },
  {
   "cell_type": "code",
   "execution_count": 35,
   "metadata": {},
   "outputs": [],
   "source": [
    "\n",
    "# Inicializamos el primer frame a vacio \n",
    "# este nos permitira obtener el fondo - segunda captura \n",
    "fondo = None\n",
    "# recorrido de los frames del video\n",
    "while True:\n",
    "    # obtenemos le frame\n",
    "    (grabbed, frame) = camara.read()\n",
    "    \n",
    "    # si llegamos al final del video el bucle se rompe\n",
    "    if not grabbed:\n",
    "        break\n",
    "    \n",
    "    # convertios a escala de grises\n",
    "    gris = cv2.cvtColor(frame, cv2.COLOR_BGR2GRAY)\n",
    "    \n",
    "    # aplicamos suavizado para eliminar ruido\n",
    "    gris = cv2.GaussianBlur(gris, (21, 21), 0)\n",
    "    \n",
    "    # Si todavia no hemos obtenido el fondo, lo obtenemos\n",
    "    # sera el primer frame que obtengamos\n",
    "    if fondo is None:\n",
    "        fondo = gris\n",
    "        continue\n",
    "    \n",
    "    # calculo de la diferencia entre el fondo y el frame actual\n",
    "    resta = cv2.absdiff(fondo, gris)\n",
    "    \n",
    "    # aplicamos el umbral \n",
    "    umbral = cv2.threshold(resta, 25, 255, cv2.THRESH_BINARY)[1]\n",
    "    \n",
    "    # dilatamos el umbral para tapar agujeros\n",
    "    umbral = cv2.dilate(umbral, None, iterations=2)\n",
    "    \n",
    "    # copiamos el umbral para detectar los contornos\n",
    "    contornosimg = umbral.copy()\n",
    "    \n",
    "    # buscamos contorno en la imagen\n",
    "    contornos, hierarchy = cv2.findContours(contornosimg, cv2.RETR_TREE, cv2.CHAIN_APPROX_SIMPLE)\n",
    "    \n",
    "    # recorremos todos los contornos encontrados\n",
    "    for c in contornos:\n",
    "        # eliminamos los contornos mas pequeños\n",
    "        if cv2.contourArea(c) < 500:\n",
    "            continue\n",
    "        # Obtenemos el bounds del contorno, el rectangulo mayor que engloba al contrario \n",
    "        (x, y, w, h) = cv2.boundingRect(c)\n",
    "        \n",
    "        # dibujamos el rectangulo del bounds \n",
    "        cv2.rectangle(frame, (x, y), (x + w, y + h), (0, 255, 0), 2)\n",
    "        \n",
    "    \n",
    "    # Mostramos las imágenes de la cámara, el umbral y la resta\n",
    "    cv2.imshow(\"Camara\", frame)\n",
    "    cv2.imshow(\"Umbral\", umbral)\n",
    "    cv2.imshow(\"Resta\", resta)\n",
    "    cv2.imshow(\"Contorno\", contornosimg)\n",
    "    \n",
    "    # capturamos una tecla para salir\n",
    "    key = cv2.waitKey(1) & 0xFF\n",
    "    # tiempo de espera para que se vea bien\n",
    "    time.sleep(0.015)\n",
    "    if key == ord(\"s\"):\n",
    "        break\n",
    "\n",
    "# liberamos la camara y cerramos todas las ventanas\n",
    "\n",
    "camara.release()\n",
    "cv2.destroyAllWindows()\n",
    "    \n",
    "    \n"
   ]
  },
  {
   "cell_type": "code",
   "execution_count": null,
   "metadata": {},
   "outputs": [],
   "source": []
  }
 ],
 "metadata": {
  "kernelspec": {
   "display_name": "Python 3",
   "language": "python",
   "name": "python3"
  },
  "language_info": {
   "codemirror_mode": {
    "name": "ipython",
    "version": 3
   },
   "file_extension": ".py",
   "mimetype": "text/x-python",
   "name": "python",
   "nbconvert_exporter": "python",
   "pygments_lexer": "ipython3",
   "version": "3.8.5"
  }
 },
 "nbformat": 4,
 "nbformat_minor": 4
}
